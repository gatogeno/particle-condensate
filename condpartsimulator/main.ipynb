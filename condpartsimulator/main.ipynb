{
 "cells": [
  {
   "cell_type": "markdown",
   "id": "d0faba88",
   "metadata": {},
   "source": [
    "# DM Simulations"
   ]
  },
  {
   "cell_type": "markdown",
   "id": "d54626e3",
   "metadata": {},
   "source": [
    "The array parameters will contain all the parameters extracted from inifile.dat\n",
    "\n",
    "* parameters[0] is the dimension D of the system (int type)\n",
    "\n",
    "* parameters[1] is the length of the box L in the dimensionless units of the code, it is a square box (float type)\n",
    "\n",
    "* parameters[2] is the number of sites by length N (int type)\n",
    "\n",
    "* parameters[3] is the total mass M, in dimensionless units of the system (float type)\n",
    "\n",
    "* parameters[4] is name of the field configuration to be simulated, (string type). The available fields are:\n",
    "    * spin0\n",
    "    * spin2\n",
    "\n",
    "* parameters[5] is the condensate fraction (float type). If the field is different than spin0, the condensate fraction is automatically 1.\n",
    "\n",
    "* parameters[6] is an array defining the initial conditions of the field.\n",
    "    * parameters[6][0][0] contains the type of initial condition for the field or condensate (string type). The available conditions are\n",
    "        * testing\n",
    "        * random\n",
    "        * centralsoliton\n",
    "        * multiple-solitons\n",
    "        * from-file\n",
    "        \n",
    "      For \"centralsoliton\" the array contains one parameter: radc (float type) stored in parameters[6][0][1].\n",
    "      \n",
    "      For \"multiple-solitons\" the array contains two parameters: radc (float type) stored in parameters[6][0][1] and numbersolitons (int type) stored in parameters[6][0][2].\n",
    "      \n",
    "      For \"from-file\" the initial file is stored in parameters[6][0][1].\n",
    "      \n",
    "    * parameters[6][1][0] contains the type of initial condition for the particles (string type) if we choose spin0 and the condensate fraction is less than 1. The available conditions are\n",
    "        * testing\n",
    "        * random\n",
    "        * maxwellian\n",
    "        * from-file\n",
    "        \n",
    "        For \"maxwellian\" the array contains one parameter: sigma (float type) stored in parameters[6][0][1].\n",
    "        \n",
    "* parameters[7] contains information about the particles.\n",
    "    * parameters[7][0] contains the number of test particles (int type) \n",
    "    * parameters[7][1] contains the type of particle-mesh density assignment for particles. The available types are:\n",
    "        * nearestgridpoint\n",
    "        * cloudincell\n",
    "    \n",
    "    If the type of field is not spin0 or condensate fraction is 1, these values are assigned to be 0 and nearestgridpoint by default, since that part of the array won't be used.\n",
    "    \n",
    "* parameters[8] is an array with the information about the type of potential considered.\n",
    "    * parameters[8][0] gives the name of the potential (string type). We have:\n",
    "        * testing\n",
    "        * full\n",
    "        \n",
    "        Testing is a potential well, storing in parameters[8][1] the length of the well (float type).\n",
    "        \n",
    "        Full contains the gravitational, harmonical and self-interaction. In parameters[8][1] we indicate if the gravitational potential is on or off (True or False). In parameters[8][2] we store the harmonic frequency omega (float type), and in parameters[8][3] we have the value of the self-coupling g (float type).\n",
    "\n",
    "* parameters[9] is an array indicating the type of evolver.\n",
    "    * parameters[9][0] gives the name of the evolver (string type). We have:\n",
    "        * kickdriftkick\n",
    "        * driftkickdrift\n",
    "    * parameter[9][1] gives the number of iterations of the simulation (int type)\n",
    "    * parameter[9][2] gives the number of steps to save the field in the output field (int type)\n",
    "    * parameters[9][3] indicates if the propagation is in imaginary time or not (True or False)\n",
    "    \n",
    "* parameters[10] is the folder where the ouptut files will be saved (string type)"
   ]
  },
  {
   "cell_type": "code",
   "execution_count": 1,
   "id": "0748608b",
   "metadata": {},
   "outputs": [],
   "source": [
    "#Load the modules needed for the program\n",
    "import time\n",
    "import numpy as np\n",
    "from utilities import storer, grid, fields, potentials, evolvers\n",
    "\n",
    "#Defines the main function\n",
    "def main(file):\n",
    "    #Initialize the counting of time execution\n",
    "    start_time = time.time()\n",
    "\n",
    "    #Load parameters\n",
    "    parameters=storer.reader(file)\n",
    "\n",
    "    #Create the grids\n",
    "    grids=grid.creategrid(parameters)\n",
    "\n",
    "    #Create the initial configuration of the fields and generate the potentials\n",
    "    if parameters[4]=='spin0':\n",
    "        psi=fields.spin0(parameters, grids)\n",
    "        pot=potentials.potential(parameters, grids, psi,1)\n",
    "        potnc=potentials.potential(parameters, grids, psi,0)\n",
    "    if parameters[4]=='spin2':\n",
    "        psi=fields.spin2(parameters, grids)\n",
    "        pot=potentials.potential(parameters, grids, psi,1)\n",
    "        potnc=pot\n",
    "\n",
    "    #Evolve the system\n",
    "    if parameters[9][0]=='kickdriftkick' or parameters[9][0]=='driftkickdrift':\n",
    "        evolvedarray=evolvers.kickdrift(parameters, grids, psi, pot, potnc, 1e-2)\n",
    "\n",
    "    print(\" \")\n",
    "    print(\"--- %s seconds ---\" % (time.time() - start_time))"
   ]
  },
  {
   "cell_type": "code",
   "execution_count": 2,
   "id": "e1caf7e8",
   "metadata": {},
   "outputs": [
    {
     "name": "stdout",
     "output_type": "stream",
     "text": [
      "Reference scales\n",
      "r_ref= 2.5580946098545043 kpc\n",
      "t_ref= 0.33371969534861545 Gyr\n",
      "v_ref= 7499.788500948769 m/s\n",
      "dimensionless g= 0.07590859911982109\n"
     ]
    }
   ],
   "source": [
    "#Reference quantities\n",
    "mboson=1e-22*1.78e-36\n",
    "g=1e-87\n",
    "Mreference=6.658e37\n",
    "dim=3\n",
    "rreference=((1.054e-34)**2/(6.67e-11*Mreference*mboson**2))**(1/(4-dim))\n",
    "treference=(mboson*rreference**2)/(1.054e-34)\n",
    "vreference=rreference/treference\n",
    "gdimensionless=(Mreference*treference**2*g)/(mboson**2*rreference**5)\n",
    "     \n",
    "print(f'Reference scales')\n",
    "print(f'r_ref= {rreference*3.24e-20} kpc')\n",
    "print(f't_ref= {treference*3.17e-17} Gyr')\n",
    "print(f'v_ref= {vreference} m/s')\n",
    "print(f'dimensionless g= {gdimensionless}')"
   ]
  },
  {
   "cell_type": "code",
   "execution_count": 3,
   "id": "555fc09c",
   "metadata": {},
   "outputs": [
    {
     "name": "stdout",
     "output_type": "stream",
     "text": [
      "*-----------------------------------*\n",
      "Dimension: 2\n",
      "Box length: 40.0\n",
      "N: 64\n",
      "Total mass: 1.0\n",
      " \n",
      "Field configuration: spin0\n",
      "Condensate fraction: 0.8\n",
      "Initial configuration condensate: centralsoliton\n",
      "  radc: 2.0\n",
      "Initial configuration particles: random\n",
      "Number of test particles: 1000\n",
      "Density assignment: cloudincell\n",
      " \n",
      "Potential type: full\n",
      "Potential parameters:\n",
      "  gravitational: True\n",
      "  omega: 0.0\n",
      "  selfcoupling: 0.0\n",
      " \n",
      "Evolver: kickdriftkick\n",
      "Number of iterations: 30000\n",
      "Saving every: 100 steps\n",
      "Imaginary time propagation: False\n",
      " \n",
      "Output files in: outputfiles/testing/\n",
      "*-----------------------------------*\n",
      "************************************************************|100% \n",
      "--- 163.1563949584961 seconds ---\n"
     ]
    }
   ],
   "source": [
    "#Initialize the program\n",
    "main(\"inifile.dat\")"
   ]
  },
  {
   "cell_type": "code",
   "execution_count": null,
   "id": "edaa60be",
   "metadata": {},
   "outputs": [],
   "source": []
  },
  {
   "cell_type": "code",
   "execution_count": null,
   "id": "c980c804",
   "metadata": {},
   "outputs": [],
   "source": []
  },
  {
   "cell_type": "code",
   "execution_count": null,
   "id": "378ccc84",
   "metadata": {},
   "outputs": [],
   "source": []
  },
  {
   "cell_type": "code",
   "execution_count": null,
   "id": "f01f58a1",
   "metadata": {},
   "outputs": [],
   "source": []
  }
 ],
 "metadata": {
  "kernelspec": {
   "display_name": "Python 3 (ipykernel)",
   "language": "python",
   "name": "python3"
  },
  "language_info": {
   "codemirror_mode": {
    "name": "ipython",
    "version": 3
   },
   "file_extension": ".py",
   "mimetype": "text/x-python",
   "name": "python",
   "nbconvert_exporter": "python",
   "pygments_lexer": "ipython3",
   "version": "3.11.4"
  }
 },
 "nbformat": 4,
 "nbformat_minor": 5
}
